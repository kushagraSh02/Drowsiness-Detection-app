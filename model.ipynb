{
 "cells": [
  {
   "attachments": {},
   "cell_type": "markdown",
   "metadata": {},
   "source": [
    "### Importing Libraries"
   ]
  },
  {
   "cell_type": "code",
   "execution_count": 33,
   "metadata": {},
   "outputs": [],
   "source": [
    "import os\n",
    "from keras.preprocessing import image\n",
    "import numpy as np\n",
    "from keras.utils.np_utils import to_categorical\n",
    "import random, shutil\n",
    "from keras.models import Sequential\n",
    "from keras.layers import Dropout, Conv2D, Flatten, Dense, MaxPool2D, BatchNormalization\n",
    "from keras.models import load_model\n",
    "import matplotlib.pyplot as plt"
   ]
  },
  {
   "cell_type": "code",
   "execution_count": 16,
   "metadata": {},
   "outputs": [],
   "source": [
    "BATCH_SIZE = 32\n",
    "TARGET_SIZE = (24,24)"
   ]
  },
  {
   "attachments": {},
   "cell_type": "markdown",
   "metadata": {},
   "source": [
    "### Preparing Data"
   ]
  },
  {
   "cell_type": "code",
   "execution_count": 19,
   "metadata": {},
   "outputs": [
    {
     "name": "stdout",
     "output_type": "stream",
     "text": [
      "Found 1234 images belonging to 2 classes.\n",
      "Found 218 images belonging to 2 classes.\n"
     ]
    }
   ],
   "source": [
    "def generator(dir, gen=image.ImageDataGenerator(rescale=1./255), shuffle=True, batch_size=1, target_size=(24, 24), class_mode='categorical'):\n",
    "    return gen.flow_from_directory(dir, batch_size=batch_size, shuffle=shuffle, color_mode='grayscale', class_mode=class_mode, target_size=target_size)\n",
    "\n",
    "train_data = generator('data/train', batch_size=BATCH_SIZE, target_size=TARGET_SIZE)\n",
    "test_data = generator('data/test', batch_size=BATCH_SIZE, target_size=TARGET_SIZE)"
   ]
  },
  {
   "cell_type": "code",
   "execution_count": 20,
   "metadata": {},
   "outputs": [
    {
     "name": "stdout",
     "output_type": "stream",
     "text": [
      "38 6\n"
     ]
    }
   ],
   "source": [
    "STEPS_PER_EPOCH = len(train_data.classes)//BATCH_SIZE\n",
    "VALIDATION_STEPS = len(test_data.classes)//BATCH_SIZE\n",
    "print(STEPS_PER_EPOCH, VALIDATION_STEPS)"
   ]
  },
  {
   "attachments": {},
   "cell_type": "markdown",
   "metadata": {},
   "source": [
    "### Model"
   ]
  },
  {
   "cell_type": "code",
   "execution_count": 25,
   "metadata": {},
   "outputs": [],
   "source": [
    "model = Sequential([\n",
    "    Conv2D(32, kernel_size=(3, 3), activation='relu', input_shape=(24, 24, 1)),\n",
    "    MaxPool2D(pool_size=(2, 2)),\n",
    "    Conv2D(64, kernel_size=(3, 3), activation='relu'),\n",
    "    MaxPool2D(pool_size=(2, 2)),\n",
    "    Conv2D(128, kernel_size=(3, 3), activation='relu'),\n",
    "    MaxPool2D(pool_size=(2, 2)),\n",
    "\n",
    "    Dropout(0.4),\n",
    "    Flatten(),\n",
    "    Dense(256, activation='relu'),\n",
    "    Dropout(0.5),\n",
    "    Dense(2, activation='softmax')\n",
    "])\n",
    "\n",
    "model.compile(optimizer='adam', \n",
    "              loss='binary_crossentropy', \n",
    "              metrics=['accuracy'])"
   ]
  },
  {
   "cell_type": "code",
   "execution_count": 26,
   "metadata": {},
   "outputs": [
    {
     "name": "stdout",
     "output_type": "stream",
     "text": [
      "Model: \"sequential_3\"\n",
      "_________________________________________________________________\n",
      " Layer (type)                Output Shape              Param #   \n",
      "=================================================================\n",
      " conv2d_9 (Conv2D)           (None, 22, 22, 32)        320       \n",
      "                                                                 \n",
      " max_pooling2d_9 (MaxPooling  (None, 11, 11, 32)       0         \n",
      " 2D)                                                             \n",
      "                                                                 \n",
      " conv2d_10 (Conv2D)          (None, 9, 9, 64)          18496     \n",
      "                                                                 \n",
      " max_pooling2d_10 (MaxPoolin  (None, 4, 4, 64)         0         \n",
      " g2D)                                                            \n",
      "                                                                 \n",
      " conv2d_11 (Conv2D)          (None, 2, 2, 128)         73856     \n",
      "                                                                 \n",
      " max_pooling2d_11 (MaxPoolin  (None, 1, 1, 128)        0         \n",
      " g2D)                                                            \n",
      "                                                                 \n",
      " dropout_6 (Dropout)         (None, 1, 1, 128)         0         \n",
      "                                                                 \n",
      " flatten_3 (Flatten)         (None, 128)               0         \n",
      "                                                                 \n",
      " dense_6 (Dense)             (None, 256)               33024     \n",
      "                                                                 \n",
      " dropout_7 (Dropout)         (None, 256)               0         \n",
      "                                                                 \n",
      " dense_7 (Dense)             (None, 2)                 514       \n",
      "                                                                 \n",
      "=================================================================\n",
      "Total params: 126,210\n",
      "Trainable params: 126,210\n",
      "Non-trainable params: 0\n",
      "_________________________________________________________________\n"
     ]
    }
   ],
   "source": [
    "model.summary()"
   ]
  },
  {
   "cell_type": "code",
   "execution_count": 27,
   "metadata": {},
   "outputs": [
    {
     "name": "stdout",
     "output_type": "stream",
     "text": [
      "Epoch 1/20\n"
     ]
    },
    {
     "name": "stderr",
     "output_type": "stream",
     "text": [
      "C:\\Users\\kusha\\AppData\\Local\\Temp\\ipykernel_34572\\4195060415.py:1: UserWarning: `Model.fit_generator` is deprecated and will be removed in a future version. Please use `Model.fit`, which supports generators.\n",
      "  history = model.fit_generator(train_data, validation_data=test_data, epochs=20, steps_per_epoch=STEPS_PER_EPOCH, validation_steps=VALIDATION_STEPS)\n"
     ]
    },
    {
     "name": "stdout",
     "output_type": "stream",
     "text": [
      "38/38 [==============================] - 3s 77ms/step - loss: 0.6496 - accuracy: 0.6547 - val_loss: 0.5083 - val_accuracy: 0.6771\n",
      "Epoch 2/20\n",
      "38/38 [==============================] - 2s 48ms/step - loss: 0.4309 - accuracy: 0.8128 - val_loss: 0.2574 - val_accuracy: 0.8854\n",
      "Epoch 3/20\n",
      "38/38 [==============================] - 2s 48ms/step - loss: 0.2768 - accuracy: 0.8985 - val_loss: 0.2014 - val_accuracy: 0.9427\n",
      "Epoch 4/20\n",
      "38/38 [==============================] - 2s 45ms/step - loss: 0.2069 - accuracy: 0.9285 - val_loss: 0.1475 - val_accuracy: 0.9531\n",
      "Epoch 5/20\n",
      "38/38 [==============================] - 2s 45ms/step - loss: 0.1629 - accuracy: 0.9351 - val_loss: 0.1158 - val_accuracy: 0.9479\n",
      "Epoch 6/20\n",
      "38/38 [==============================] - 2s 45ms/step - loss: 0.1266 - accuracy: 0.9539 - val_loss: 0.1336 - val_accuracy: 0.9531\n",
      "Epoch 7/20\n",
      "38/38 [==============================] - 2s 48ms/step - loss: 0.0953 - accuracy: 0.9642 - val_loss: 0.1002 - val_accuracy: 0.9740\n",
      "Epoch 8/20\n",
      "38/38 [==============================] - 2s 49ms/step - loss: 0.0691 - accuracy: 0.9809 - val_loss: 0.0890 - val_accuracy: 0.9635\n",
      "Epoch 9/20\n",
      "38/38 [==============================] - 2s 50ms/step - loss: 0.0584 - accuracy: 0.9792 - val_loss: 0.0842 - val_accuracy: 0.9740\n",
      "Epoch 10/20\n",
      "38/38 [==============================] - 2s 49ms/step - loss: 0.0438 - accuracy: 0.9834 - val_loss: 0.1033 - val_accuracy: 0.9531\n",
      "Epoch 11/20\n",
      "38/38 [==============================] - 2s 44ms/step - loss: 0.0445 - accuracy: 0.9836 - val_loss: 0.0735 - val_accuracy: 0.9740\n",
      "Epoch 12/20\n",
      "38/38 [==============================] - 2s 46ms/step - loss: 0.0268 - accuracy: 0.9908 - val_loss: 0.0554 - val_accuracy: 0.9792\n",
      "Epoch 13/20\n",
      "38/38 [==============================] - 2s 46ms/step - loss: 0.0304 - accuracy: 0.9925 - val_loss: 0.0734 - val_accuracy: 0.9688\n",
      "Epoch 14/20\n",
      "38/38 [==============================] - 2s 49ms/step - loss: 0.0205 - accuracy: 0.9918 - val_loss: 0.0482 - val_accuracy: 0.9844\n",
      "Epoch 15/20\n",
      "38/38 [==============================] - 2s 45ms/step - loss: 0.0213 - accuracy: 0.9942 - val_loss: 0.0637 - val_accuracy: 0.9792\n",
      "Epoch 16/20\n",
      "38/38 [==============================] - 2s 45ms/step - loss: 0.0461 - accuracy: 0.9809 - val_loss: 0.0847 - val_accuracy: 0.9740\n",
      "Epoch 17/20\n",
      "38/38 [==============================] - 2s 45ms/step - loss: 0.0265 - accuracy: 0.9917 - val_loss: 0.0332 - val_accuracy: 0.9896\n",
      "Epoch 18/20\n",
      "38/38 [==============================] - 2s 46ms/step - loss: 0.0135 - accuracy: 0.9975 - val_loss: 0.0726 - val_accuracy: 0.9792\n",
      "Epoch 19/20\n",
      "38/38 [==============================] - 2s 46ms/step - loss: 0.0086 - accuracy: 0.9983 - val_loss: 0.0366 - val_accuracy: 0.9792\n",
      "Epoch 20/20\n",
      "38/38 [==============================] - 2s 46ms/step - loss: 0.0074 - accuracy: 0.9992 - val_loss: 0.0857 - val_accuracy: 0.9792\n"
     ]
    }
   ],
   "source": [
    "history = model.fit_generator(train_data, validation_data=test_data, epochs=20, steps_per_epoch=STEPS_PER_EPOCH, validation_steps=VALIDATION_STEPS)\n",
    "model.save('models/cnnCat2.h5', overwrite=True)"
   ]
  },
  {
   "cell_type": "code",
   "execution_count": 28,
   "metadata": {},
   "outputs": [
    {
     "data": {
      "image/png": "[encoded data removed]",
      "text/plain": [
       "<Figure size 640x480 with 1 Axes>"
      ]
     },
     "metadata": {},
     "output_type": "display_data"
    }
   ],
   "source": [
    "plt.plot(history.history['accuracy'],label='train')\n",
    "plt.plot(history.history['val_accuracy'],label='test')\n",
    "plt.title(\"Acuracy Comparison\")\n",
    "plt.legend()\n",
    "plt.show()"
   ]
  },
  {
   "cell_type": "code",
   "execution_count": null,
   "metadata": {},
   "outputs": [],
   "source": []
  }
 ],
 "metadata": {
  "kernelspec": {
   "display_name": "Python 3",
   "language": "python",
   "name": "python3"
  },
  "language_info": {
   "codemirror_mode": {
    "name": "ipython",
    "version": 3
   },
   "file_extension": ".py",
   "mimetype": "text/x-python",
   "name": "python",
   "nbconvert_exporter": "python",
   "pygments_lexer": "ipython3",
   "version": "3.10.8"
  },
  "orig_nbformat": 4
 },
 "nbformat": 4,
 "nbformat_minor": 2
}
